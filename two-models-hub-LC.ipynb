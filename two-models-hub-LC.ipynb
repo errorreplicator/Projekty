{
 "cells": [
  {
   "cell_type": "code",
   "execution_count": 1,
   "metadata": {},
   "outputs": [
    {
     "name": "stderr",
     "output_type": "stream",
     "text": [
      "/home/januszp/miniconda3/envs/two-models/lib/python3.9/site-packages/tqdm/auto.py:21: TqdmWarning: IProgress not found. Please update jupyter and ipywidgets. See https://ipywidgets.readthedocs.io/en/stable/user_install.html\n",
      "  from .autonotebook import tqdm as notebook_tqdm\n"
     ]
    }
   ],
   "source": [
    "from transformers import pipeline, GPT2Tokenizer, GPT2LMHeadModel\n",
    "from langchain import PromptTemplate, LLMChain\n",
    "from langchain.llms import HuggingFaceHub\n",
    "import os"
   ]
  },
  {
   "cell_type": "code",
   "execution_count": 2,
   "metadata": {},
   "outputs": [],
   "source": [
    "import configparser\n",
    "import os\n",
    "\n",
    "config = configparser.ConfigParser()\n",
    "config.read('/home/januszp/api.config')\n",
    "\n",
    "openai_key = config['OpenAI']['API_KEY']\n",
    "serperdev_key = config['SerperDev']['SerpDEV_API_KEY']\n",
    "serperapi_key = config['SerpAPI']['SerpAPI_API_KEY']\n",
    "hugging_key =config['HuggingFaceAPI']['HuggingFace_API_KEY']\n",
    "\n",
    "os.environ['OPENAI_API_KEY'] = openai_key\n",
    "os.environ['SERPER_API_KEY'] = serperdev_key\n",
    "os.environ['SERPAPI_API_KEY'] = serperapi_key\n",
    "os.environ['HUGGINGFACEHUB_API_TOKEN'] = hugging_key"
   ]
  },
  {
   "cell_type": "code",
   "execution_count": 3,
   "metadata": {},
   "outputs": [],
   "source": [
    "text_p1 = \"\"\"Question: {question}\n",
    "\n",
    "Answer: Let's think step by step.\"\"\"\n",
    "my_prompt1 = PromptTemplate(\n",
    "    template=text_p1,\n",
    "    input_variables=[\"question\"]\n",
    ")"
   ]
  },
  {
   "cell_type": "code",
   "execution_count": 25,
   "metadata": {},
   "outputs": [],
   "source": [
    "model_path = 'google/flan-t5-xxl'\n",
    "llm_chain = LLMChain(prompt=my_prompt1, \n",
    "                     llm=HuggingFaceHub(repo_id=model_path, \n",
    "                                        model_kwargs={\"temperature\":0.7, \n",
    "                                                      \"max_length\":512}))"
   ]
  },
  {
   "cell_type": "code",
   "execution_count": 26,
   "metadata": {},
   "outputs": [
    {
     "name": "stdout",
     "output_type": "stream",
     "text": [
      "\n"
     ]
    }
   ],
   "source": [
    "question = \"Who won the FIFA World Cup in the year 1994? \"\n",
    "print(llm_chain.run(question))"
   ]
  },
  {
   "cell_type": "code",
   "execution_count": null,
   "metadata": {},
   "outputs": [
    {
     "name": "stdout",
     "output_type": "stream",
     "text": [
      "\n"
     ]
    }
   ],
   "source": [
    "# question2 = \"List anything you want in 5 bullet points\"\n",
    "# print(llm_chain.run(question2))"
   ]
  },
  {
   "cell_type": "code",
   "execution_count": null,
   "metadata": {},
   "outputs": [],
   "source": [
    "import langchain.llms.gpt"
   ]
  },
  {
   "cell_type": "code",
   "execution_count": null,
   "metadata": {},
   "outputs": [],
   "source": [
    "\n"
   ]
  },
  {
   "cell_type": "code",
   "execution_count": null,
   "metadata": {},
   "outputs": [],
   "source": []
  },
  {
   "cell_type": "code",
   "execution_count": null,
   "metadata": {},
   "outputs": [],
   "source": []
  },
  {
   "cell_type": "code",
   "execution_count": null,
   "metadata": {},
   "outputs": [],
   "source": []
  }
 ],
 "metadata": {
  "kernelspec": {
   "display_name": "two-models",
   "language": "python",
   "name": "python3"
  },
  "language_info": {
   "codemirror_mode": {
    "name": "ipython",
    "version": 3
   },
   "file_extension": ".py",
   "mimetype": "text/x-python",
   "name": "python",
   "nbconvert_exporter": "python",
   "pygments_lexer": "ipython3",
   "version": "3.9.16"
  },
  "orig_nbformat": 4
 },
 "nbformat": 4,
 "nbformat_minor": 2
}
