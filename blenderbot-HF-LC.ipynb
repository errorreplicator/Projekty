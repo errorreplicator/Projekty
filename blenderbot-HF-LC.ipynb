{
 "cells": [
  {
   "cell_type": "code",
   "execution_count": 11,
   "id": "2b4262fb-05d3-4c4f-8bbe-ba8cecfbc522",
   "metadata": {},
   "outputs": [],
   "source": [
    "from transformers import AutoTokenizer, AutoModel, pipeline, AutoModelForSeq2SeqLM\n",
    "from langchain import LLMChain, PromptTemplate, HuggingFacePipeline"
   ]
  },
  {
   "cell_type": "code",
   "execution_count": 5,
   "id": "f0426829-a115-4af4-b477-cca37016197b",
   "metadata": {},
   "outputs": [
    {
     "name": "stderr",
     "output_type": "stream",
     "text": [
      "Downloading (…)okenizer_config.json: 100%|██████████| 1.05k/1.05k [00:00<00:00, 259kB/s]\n",
      "Downloading (…)lve/main/config.json: 100%|██████████| 1.38k/1.38k [00:00<00:00, 218kB/s]\n",
      "Downloading (…)olve/main/vocab.json: 100%|██████████| 127k/127k [00:00<00:00, 709kB/s]\n",
      "Downloading (…)olve/main/merges.txt: 100%|██████████| 62.9k/62.9k [00:00<00:00, 669kB/s]\n",
      "Downloading (…)in/added_tokens.json: 100%|██████████| 16.0/16.0 [00:00<00:00, 6.98kB/s]\n",
      "Downloading (…)cial_tokens_map.json: 100%|██████████| 772/772 [00:00<00:00, 337kB/s]\n"
     ]
    }
   ],
   "source": [
    "tokenizer = AutoTokenizer.from_pretrained('facebook/blenderbot-1B-distill', cache_dir=\"/data/Models/\")"
   ]
  },
  {
   "cell_type": "code",
   "execution_count": 12,
   "id": "0843a8c3-a623-4c80-8652-c8f01c5382c7",
   "metadata": {},
   "outputs": [
    {
     "name": "stderr",
     "output_type": "stream",
     "text": [
      "Downloading (…)neration_config.json: 100%|██████████| 347/347 [00:00<00:00, 25.4kB/s]\n"
     ]
    }
   ],
   "source": [
    "model = AutoModelForSeq2SeqLM.from_pretrained('facebook/blenderbot-1B-distill',cache_dir=\"/data/Models/\")"
   ]
  },
  {
   "cell_type": "code",
   "execution_count": 13,
   "id": "b1f6016f",
   "metadata": {},
   "outputs": [],
   "source": [
    "template = \"\"\"Question: {question}\n",
    "\n",
    "Answer: Let's think step by step.\"\"\"\n",
    "\n",
    "my_prompt = PromptTemplate(\n",
    "    template=template,\n",
    "    input_variables=[\"question\"]\n",
    ")"
   ]
  },
  {
   "cell_type": "code",
   "execution_count": 14,
   "id": "6d912375-adae-42a4-b0a3-ca0094acc025",
   "metadata": {},
   "outputs": [],
   "source": [
    "pipe = pipeline(\"text2text-generation\",\n",
    "                model=model,\n",
    "                tokenizer=tokenizer,\n",
    "                max_length=64)"
   ]
  },
  {
   "cell_type": "code",
   "execution_count": 15,
   "id": "23303726",
   "metadata": {},
   "outputs": [],
   "source": [
    "local_llm = HuggingFacePipeline(pipeline=pipe)"
   ]
  },
  {
   "cell_type": "code",
   "execution_count": 16,
   "id": "3579a5e1",
   "metadata": {},
   "outputs": [],
   "source": [
    "llm_chain = LLMChain(prompt=my_prompt,\n",
    "                     llm=local_llm)"
   ]
  },
  {
   "cell_type": "code",
   "execution_count": 17,
   "id": "f2de6921",
   "metadata": {},
   "outputs": [
    {
     "name": "stdout",
     "output_type": "stream",
     "text": [
      " I don't know who won, but I do know that it was held in Brazil.\n"
     ]
    }
   ],
   "source": [
    "print(llm_chain.run(\"Who won the FIFA World Cup in the year 1994?\"))"
   ]
  },
  {
   "cell_type": "code",
   "execution_count": 18,
   "id": "338cfff3",
   "metadata": {},
   "outputs": [
    {
     "name": "stdout",
     "output_type": "stream",
     "text": [
      " I'm not sure what the capital of France is, but I know it's the most populous city in France.\n"
     ]
    }
   ],
   "source": [
    "print(llm_chain.run(\"What is the capital city of France?\"))"
   ]
  },
  {
   "cell_type": "code",
   "execution_count": 19,
   "id": "989f5b2f",
   "metadata": {},
   "outputs": [
    {
     "name": "stdout",
     "output_type": "stream",
     "text": [
      " I know that Rome is the capital and most populous city of the Roman Empire.\n"
     ]
    }
   ],
   "source": [
    "print(llm_chain.run(\"What do you know about Rome?\"))"
   ]
  },
  {
   "cell_type": "code",
   "execution_count": null,
   "id": "d1d85861",
   "metadata": {},
   "outputs": [],
   "source": []
  },
  {
   "cell_type": "code",
   "execution_count": null,
   "id": "09fd09a8",
   "metadata": {},
   "outputs": [],
   "source": []
  },
  {
   "cell_type": "code",
   "execution_count": null,
   "id": "81d51461",
   "metadata": {},
   "outputs": [],
   "source": []
  }
 ],
 "metadata": {
  "kernelspec": {
   "display_name": "two-models",
   "language": "python",
   "name": "python3"
  },
  "language_info": {
   "codemirror_mode": {
    "name": "ipython",
    "version": 3
   },
   "file_extension": ".py",
   "mimetype": "text/x-python",
   "name": "python",
   "nbconvert_exporter": "python",
   "pygments_lexer": "ipython3",
   "version": "3.9.16"
  }
 },
 "nbformat": 4,
 "nbformat_minor": 5
}
