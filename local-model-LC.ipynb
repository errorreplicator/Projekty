{
 "cells": [
  {
   "cell_type": "code",
   "execution_count": 2,
   "metadata": {},
   "outputs": [
    {
     "name": "stderr",
     "output_type": "stream",
     "text": [
      "/home/januszp/miniconda3/envs/two-models/lib/python3.9/site-packages/tqdm/auto.py:21: TqdmWarning: IProgress not found. Please update jupyter and ipywidgets. See https://ipywidgets.readthedocs.io/en/stable/user_install.html\n",
      "  from .autonotebook import tqdm as notebook_tqdm\n"
     ]
    }
   ],
   "source": [
    "from transformers import GPT2LMHeadModel, GPT2Tokenizer, pipeline\n",
    "from langchain import PromptTemplate, LLMChain, HuggingFacePipeline"
   ]
  },
  {
   "cell_type": "code",
   "execution_count": 15,
   "id": "9c082528",
   "metadata": {},
   "outputs": [],
   "source": [
    "model = GPT2LMHeadModel.from_pretrained('gpt2')\n",
    "tokenizer = GPT2Tokenizer.from_pretrained('gpt2')"
   ]
  },
  {
   "cell_type": "code",
   "execution_count": 27,
   "id": "7c08ce83",
   "metadata": {},
   "outputs": [],
   "source": [
    "template = \"\"\"Provide a list of top 10 {question}\n",
    "\n",
    "Answer: Let's think step by step.\"\"\"\n",
    "\n",
    "my_prompt = PromptTemplate(\n",
    "    template=template,\n",
    "    input_variables=[\"question\"]\n",
    ")"
   ]
  },
  {
   "cell_type": "code",
   "execution_count": 28,
   "id": "16d0f4bb",
   "metadata": {},
   "outputs": [],
   "source": [
    "pipe = pipeline(\"text-generation\",\n",
    "                model=model,\n",
    "                tokenizer=tokenizer,\n",
    "                max_length=200)"
   ]
  },
  {
   "cell_type": "code",
   "execution_count": 29,
   "id": "40cf917a",
   "metadata": {},
   "outputs": [],
   "source": [
    "local_llm = HuggingFacePipeline(pipeline=pipe)"
   ]
  },
  {
   "cell_type": "code",
   "execution_count": 30,
   "id": "46e0e415",
   "metadata": {},
   "outputs": [],
   "source": [
    "llm_chain = LLMChain(prompt=my_prompt,\n",
    "                     llm=local_llm)"
   ]
  },
  {
   "cell_type": "code",
   "execution_count": 31,
   "id": "07530eb4",
   "metadata": {},
   "outputs": [
    {
     "name": "stderr",
     "output_type": "stream",
     "text": [
      "Setting `pad_token_id` to `eos_token_id`:50256 for open-end generation.\n"
     ]
    },
    {
     "name": "stdout",
     "output_type": "stream",
     "text": [
      "\n",
      "\n",
      "If you do the math, you're looking at some $9,000 per capita on average for all of the world's fastest growing economies, that's an incredible number. Of course, it's also an additional $150 million over 20 years for these countries. In other words, the world has an overall growth rate of 24.1 percent per year. That's also an additional $18.7 billion per year over ten years.\n",
      "\n",
      "But one thing that shows that we're still going to bump up into the top 10 is the number of people living under the age of 65. For any given year, in the U.S. the total number of people under the age of 75 with no education has risen by 10.4 percent. And yet we spend $1,225 per day on the federal government's welfare program. That's in addition to the\n"
     ]
    }
   ],
   "source": [
    "print(llm_chain.run(\"biggest countries in the world\"))"
   ]
  },
  {
   "cell_type": "code",
   "execution_count": null,
   "id": "47ab1d93",
   "metadata": {},
   "outputs": [],
   "source": []
  }
 ],
 "metadata": {
  "kernelspec": {
   "display_name": "two-models",
   "language": "python",
   "name": "python3"
  },
  "language_info": {
   "codemirror_mode": {
    "name": "ipython",
    "version": 3
   },
   "file_extension": ".py",
   "mimetype": "text/x-python",
   "name": "python",
   "nbconvert_exporter": "python",
   "pygments_lexer": "ipython3",
   "version": "3.9.16"
  }
 },
 "nbformat": 4,
 "nbformat_minor": 5
}
