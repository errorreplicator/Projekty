{
 "cells": [
  {
   "cell_type": "code",
   "execution_count": 1,
   "metadata": {},
   "outputs": [],
   "source": [
    "import configparser\n",
    "import os"
   ]
  },
  {
   "cell_type": "code",
   "execution_count": 2,
   "metadata": {},
   "outputs": [],
   "source": [
    "config = configparser.ConfigParser()\n",
    "config.read('api.config')\n",
    "\n",
    "openai_key = config['OpenAI']['API_KEY']\n",
    "serperdev_key = config['SerperDev']['SerpDEV_API_KEY']\n",
    "serperapi_key = config['SerpAPI']['SerpAPI_API_KEY']\n",
    "\n",
    "os.environ['OPENAI_API_KEY'] = openai_key\n",
    "os.environ['SERPER_API_KEY'] = serperdev_key\n",
    "os.environ['SERPAPI_API_KEY'] = serperapi_key"
   ]
  },
  {
   "cell_type": "code",
   "execution_count": 8,
   "metadata": {},
   "outputs": [
    {
     "name": "stdout",
     "output_type": "stream",
     "text": [
      "\n",
      "\n",
      "1. Colosseum \n",
      "2. St. Peter's Basilica \n",
      "3. Spanish Steps \n",
      "4. Trevi Fountain \n",
      "5. Pantheon\n"
     ]
    }
   ],
   "source": [
    "# from langchain.llms import OpenAI\n",
    "# langModel = OpenAI(temperature=0.9)\n",
    "# text = \"What are the top 5 turist attractions in Rome\"\n",
    "# print(langModel(text))"
   ]
  },
  {
   "cell_type": "code",
   "execution_count": 7,
   "metadata": {},
   "outputs": [],
   "source": [
    "from langchain.llms import OpenAI\n",
    "from langchain import PromptTemplate\n",
    "from langchain.chains import LLMChain\n",
    "from langchain.agents import load_tools, initialize_agent, AgentType"
   ]
  },
  {
   "cell_type": "code",
   "execution_count": 4,
   "metadata": {},
   "outputs": [],
   "source": [
    "my_prompt = PromptTemplate(\n",
    "    input_variables=['product',\n",
    "                     'country'],\n",
    "    template=\"Please provide me TOP 3 {product} base on price to usability, to buy in {country}\"\n",
    ")"
   ]
  },
  {
   "cell_type": "code",
   "execution_count": 5,
   "metadata": {},
   "outputs": [
    {
     "data": {
      "text/plain": [
       "'Please provide me TOP 3 drones base on price to usability, to buy in USA'"
      ]
     },
     "execution_count": 5,
     "metadata": {},
     "output_type": "execute_result"
    }
   ],
   "source": [
    "my_prompt.format(product='drones', country='USA')"
   ]
  },
  {
   "cell_type": "code",
   "execution_count": 6,
   "metadata": {},
   "outputs": [],
   "source": [
    "model = OpenAI(temperature=0.2)\n",
    "chain = LLMChain(prompt=my_prompt,llm=model)"
   ]
  },
  {
   "cell_type": "code",
   "execution_count": 14,
   "metadata": {},
   "outputs": [
    {
     "name": "stdout",
     "output_type": "stream",
     "text": [
      "\n",
      "\n",
      "1. DJI Mavic Mini Drone: This drone is lightweight, portable, and easy to use. It has a 12MP camera and 2.7K video capability, and a maximum flight time of up to 30 minutes. It is also very affordable, with a price tag of around $399.\n",
      "\n",
      "2. Parrot Anafi Drone: This drone is also lightweight and portable, and has a 21MP camera and 4K video capability. It has a maximum flight time of up to 25 minutes and is priced at around $599.\n",
      "\n",
      "3. DJI Spark Drone: This drone is also lightweight and portable, and has a 12MP camera and 1080p video capability. It has a maximum flight time of up to 16 minutes and is priced at around $399.\n"
     ]
    }
   ],
   "source": [
    "print(chain.run({'product':'Drones','country':'USA'}))"
   ]
  },
  {
   "cell_type": "code",
   "execution_count": 12,
   "metadata": {},
   "outputs": [],
   "source": [
    "tools = load_tools([\"serpapi\",\"llm-math\"],llm=model)\n",
    "agent = initialize_agent(tools=tools,llm=model,agent=AgentType.ZERO_SHOT_REACT_DESCRIPTION,verbose=True)"
   ]
  },
  {
   "cell_type": "code",
   "execution_count": 13,
   "metadata": {},
   "outputs": [
    {
     "name": "stdout",
     "output_type": "stream",
     "text": [
      "\n",
      "\n",
      "\u001b[1m> Entering new AgentExecutor chain...\u001b[0m\n",
      "\u001b[32;1m\u001b[1;3m I need to find out what the top 3 drones are\n",
      "Action: Search\n",
      "Action Input: \"top 3 drones price to usability USA\"\u001b[0m\n",
      "Observation: \u001b[36;1m\u001b[1;3mDJI Mavic 3 review · DJI Air 2S review · Ryze Tello review · Skydio 2+ review · DJI Mini 2 review.\u001b[0m\n",
      "Thought:\u001b[32;1m\u001b[1;3m I need to compare the prices and usability of these drones\n",
      "Action: Search\n",
      "Action Input: \"DJI Mavic 3 price usability\"\u001b[0m\n",
      "Observation: \u001b[36;1m\u001b[1;3mWith its starting $2,200 price tag, the Mavic 3 is designed to take great videos and photos for professional and prosumer users. It strongly ...\u001b[0m\n",
      "Thought:\u001b[32;1m\u001b[1;3m I need to compare the prices and usability of the other drones\n",
      "Action: Search\n",
      "Action Input: \"DJI Air 2S price usability\"\u001b[0m\n",
      "Observation: \u001b[36;1m\u001b[1;3mDJI Air 2S w/ Standard Controller and Battery (Base Package): $999.00; DJI Air 2S w/ Fly More Combo: $1,299.00; DJI Air 2S Flymore w/RC Pro Controller or Smart ...\u001b[0m\n",
      "Thought:\u001b[32;1m\u001b[1;3m I now have enough information to determine the top 3 drones\n",
      "Final Answer: The top 3 drones based on price to usability to buy in the USA are the DJI Mavic 3, DJI Air 2S, and Ryze Tello.\u001b[0m\n",
      "\n",
      "\u001b[1m> Finished chain.\u001b[0m\n"
     ]
    },
    {
     "data": {
      "text/plain": [
       "'The top 3 drones based on price to usability to buy in the USA are the DJI Mavic 3, DJI Air 2S, and Ryze Tello.'"
      ]
     },
     "execution_count": 13,
     "metadata": {},
     "output_type": "execute_result"
    }
   ],
   "source": [
    "query = my_prompt.format(product='drones', country='USA')\n",
    "agent.run(query)"
   ]
  },
  {
   "cell_type": "code",
   "execution_count": 14,
   "metadata": {},
   "outputs": [
    {
     "name": "stdout",
     "output_type": "stream",
     "text": [
      "\n",
      "\n",
      "\u001b[1m> Entering new AgentExecutor chain...\u001b[0m\n",
      "\u001b[32;1m\u001b[1;3m I need to find the price of the Mavic 3\n",
      "Action: Search\n",
      "Action Input: \"Mavic 3 price\"\u001b[0m\n",
      "Observation: \u001b[36;1m\u001b[1;3mDJI Mavic 3 Pro price DJI Mavic 3 Pro (DJI RC): $2,199. DJI Mavic 3 Pro Fly More Combo (DJI RC): $2,999. DJI Mavic 3 Pro Fly More Combo (DJI RC Pro): $3,889. DJI Mavic 3 Pro Cine Premium Combo: $4,799.\u001b[0m\n",
      "Thought:\u001b[32;1m\u001b[1;3m I need to convert the prices to cents\n",
      "Action: Calculator\n",
      "Action Input: 2199 * 100\u001b[0m\n",
      "Observation: \u001b[33;1m\u001b[1;3mAnswer: 219900\u001b[0m\n",
      "Thought:\u001b[32;1m\u001b[1;3m I now know the final answer\n",
      "Final Answer: The price of the Mavic 3 is 219900 cents.\u001b[0m\n",
      "\n",
      "\u001b[1m> Finished chain.\u001b[0m\n"
     ]
    },
    {
     "data": {
      "text/plain": [
       "'The price of the Mavic 3 is 219900 cents.'"
      ]
     },
     "execution_count": 14,
     "metadata": {},
     "output_type": "execute_result"
    }
   ],
   "source": [
    "agent.run(\"Please provide price of Mavic 3 in cents\")"
   ]
  },
  {
   "cell_type": "code",
   "execution_count": null,
   "metadata": {},
   "outputs": [],
   "source": [
    "from langchain.chains.graph_qa import "
   ]
  },
  {
   "cell_type": "code",
   "execution_count": null,
   "metadata": {},
   "outputs": [],
   "source": []
  },
  {
   "cell_type": "code",
   "execution_count": null,
   "metadata": {},
   "outputs": [],
   "source": []
  },
  {
   "cell_type": "code",
   "execution_count": null,
   "metadata": {},
   "outputs": [],
   "source": []
  }
 ],
 "metadata": {
  "kernelspec": {
   "display_name": "happy",
   "language": "python",
   "name": "python3"
  },
  "language_info": {
   "codemirror_mode": {
    "name": "ipython",
    "version": 3
   },
   "file_extension": ".py",
   "mimetype": "text/x-python",
   "name": "python",
   "nbconvert_exporter": "python",
   "pygments_lexer": "ipython3",
   "version": "3.9.16"
  },
  "orig_nbformat": 4
 },
 "nbformat": 4,
 "nbformat_minor": 2
}
